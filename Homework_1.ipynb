{
 "cells": [
  {
   "cell_type": "markdown",
   "metadata": {},
   "source": [
    "# Astro - statistic and cosmology \n",
    "## Giacomo Menegatti - 2122852\n",
    "## Exercise 1: Coin tosses inference\n",
    "The toin coss is a Bernoulli process with a probaility $p_h$ of giving _head_. The likelihood is given by $L(\\bar{x}|p_h)=\\Pi_{i=1}^Np(x_i)$ with $x_i$ the outcome, with $p(x=H)=p_h$ and $p(x=T)=1-p_h$, so $L(N_H,N_T|p_h)=p_h^{N_h}(1-p_h)^{N_T}$."
   ]
  },
  {
   "cell_type": "code",
   "execution_count": 32,
   "metadata": {},
   "outputs": [],
   "source": [
    "import numpy as np\n",
    "import matplotlib.pyplot as plt\n",
    "from scipy import integrate\n",
    "from scipy.stats import bernoulli\n",
    "np.random.seed(213) #Setting the seed to have consistent results"
   ]
  },
  {
   "cell_type": "code",
   "execution_count": 33,
   "metadata": {},
   "outputs": [
    {
     "name": "stdout",
     "output_type": "stream",
     "text": [
      "Simulating 1000 coin tosses.\n",
      "Obtained 297 heads (29.7 %) and 703 tails (70.3 %).\n"
     ]
    }
   ],
   "source": [
    "p_h = 0.3 \n",
    "x = bernoulli.rvs(p_h, size=1000)\n",
    "\n",
    "N_h = np.sum(x)\n",
    "print(\"Simulating 1000 coin tosses.\")\n",
    "print(f'Obtained {np.sum(x)} heads ({np.sum(x)/10} %) and {1000-np.sum(x)} tails ({100-np.sum(x)/10} %).')"
   ]
  },
  {
   "cell_type": "code",
   "execution_count": 50,
   "metadata": {},
   "outputs": [],
   "source": [
    "def likelihood(data):\n",
    "    N_h = np.sum(data)\n",
    "    N_t = len(data)-N_h\n",
    "    return lambda p: p**N_h*(1-p)**N_t "
   ]
  },
  {
   "cell_type": "code",
   "execution_count": 51,
   "metadata": {},
   "outputs": [],
   "source": [
    "def posterior(likelihood, prior):\n",
    "    post = lambda x: likelihood(x)*prior(x)\n",
    "    area = integrate.quad(func=post, a=0.0, b=1.0, epsabs=1e-12, epsrel=1e-12)[0]\n",
    "    print(area)"
   ]
  },
  {
   "cell_type": "code",
   "execution_count": 55,
   "metadata": {},
   "outputs": [
    {
     "data": {
      "text/plain": [
       "[<matplotlib.lines.Line2D at 0x7ff59eba06e0>]"
      ]
     },
     "execution_count": 55,
     "metadata": {},
     "output_type": "execute_result"
    },
    {
     "data": {
      "image/png": "[encoded data removed]",
      "text/plain": [
       "<Figure size 640x480 with 1 Axes>"
      ]
     },
     "metadata": {},
     "output_type": "display_data"
    }
   ],
   "source": [
    "p = np.linspace(0,1,1000)\n",
    "plt.plot(p, likelihood(x[0:1000])(p))"
   ]
  },
  {
   "cell_type": "code",
   "execution_count": null,
   "metadata": {},
   "outputs": [],
   "source": []
  }
 ],
 "metadata": {
  "kernelspec": {
   "display_name": "Python 3",
   "language": "python",
   "name": "python3"
  },
  "language_info": {
   "codemirror_mode": {
    "name": "ipython",
    "version": 3
   },
   "file_extension": ".py",
   "mimetype": "text/x-python",
   "name": "python",
   "nbconvert_exporter": "python",
   "pygments_lexer": "ipython3",
   "version": "3.12.3"
  }
 },
 "nbformat": 4,
 "nbformat_minor": 2
}
